{
 "cells": [
  {
   "cell_type": "markdown",
   "metadata": {},
   "source": [
    "## Effective Risk Mitigation Strategies for the Occurance of Combustion Instability using Machine Learning\n",
    "\n",
    "<img src=\"./Images/Highlight.png\" width=500 />\n",
    "\n",
    "### 1. Highlight\n",
    "\n",
    "- This work proposed and benchmarked various strategies to mitigate combustion instability risk given different robust design tasks.\n",
    "- We trained Gaussian Process models to approximate the expensive physical simulations, thus achieving instant risk calculation.\n",
    "- We integrate the trained machine learning models into global optimization routines, which allows us to efficiently identify the best design parameters that are robust against uncertain operating conditions.\n",
    "\n",
    "This work was firstly presented in [ASME Turbo Expo 2019](https://event.asme.org/Turbo-Expo-2019), and was later published in the journal:\n",
    "\n",
    "Guo S., Silva C. F., Polifke W., [Efficient Robust Design for Thermoacoustic Instability Analysis: A Gaussian Process Approach](https://asmedigitalcollection.asme.org/gasturbinespower/article-abstract/142/3/031026/955389/Efficient-Robust-Design-for-Thermoacoustic?redirectedFrom=fulltext). *Journal of Engineering for Gas Turbines and Power*, 2020, 142(3), pp. 031026.\n",
    "\n",
    "### 2. Motivation\n",
    "\n",
    "Effectively mitigate the combustion instability risk at the design stage is crucial for eliminating the costly design iterations and promoting an overall more reliable and competitive gas turbine product.\n",
    "\n",
    "Risk mitigating requires finding the design parameters that are robust against various sources of uncertainties. Towards that end, an integration of risk analysis and global optimization is usually desired, where at each optimization iteration, a new set of design parameters are fed into the risk analysis module to calculate the associated instability risk value.\n",
    "\n",
    "\n",
    "### 3. Methodology\n",
    "\n",
    "To address the above-mentioned \"optimization under uncertainty\" problem, we firstly trained Gaussian Process models to approximate the expensive physical simulations. Subsequently, we integrated the trained GP model into the global optimization routines.\n",
    "\n",
    "As a result, at each optimization iteration, the computational cost of the involved risk analysis can be significantly reduced, thus yielding an overall efficient combustor robust design.\n",
    "\n",
    "<img src=\"./Images/Robust.png\" width=200 />\n",
    "\n",
    "\n",
    "### 4. Results\n",
    "\n",
    "- We analytically recovered the results yielded by the Active Subspace approach.\n",
    "\n",
    "<img src=\"./Images/Results.png\" width=500 />\n",
    "\n",
    "- We are able to visualize this active direction, and we can analytically derive the coefficients of this 1D projection.\n",
    "\n",
    "- We achieved 80 times faster instability risk calculations by eliminating costly data-driven subspace identification processes.\n",
    "\n",
    "- The insights revealed by the data-driven approach and our analytical derivations allow us to quickly screen the sensitivity of individual input parameters.\n",
    "\n",
    "<img src=\"./Images/Sensitivity.png\" width=200 />\n",
    "\n",
    "\n",
    "### 5. Folder structure\n",
    "\n",
    "**1. Presentation**: the slides presented in [ASME Turbo Expo 2019](https://event.asme.org/Turbo-Expo-2019) conference.\n",
    "\n",
    "**2. MatlabScripts**: MATLAB source code and data to reproduce the results. The code and data are organized in individual folders corresponding to different sections in the paper. "
   ]
  },
  {
   "cell_type": "code",
   "execution_count": null,
   "metadata": {},
   "outputs": [],
   "source": []
  }
 ],
 "metadata": {
  "kernelspec": {
   "display_name": "Python 3",
   "language": "python",
   "name": "python3"
  },
  "language_info": {
   "codemirror_mode": {
    "name": "ipython",
    "version": 3
   },
   "file_extension": ".py",
   "mimetype": "text/x-python",
   "name": "python",
   "nbconvert_exporter": "python",
   "pygments_lexer": "ipython3",
   "version": "3.8.5"
  }
 },
 "nbformat": 4,
 "nbformat_minor": 4
}
